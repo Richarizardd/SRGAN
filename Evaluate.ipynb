{
 "cells": [
  {
   "cell_type": "markdown",
   "metadata": {},
   "source": [
    "# 1. Reformatting Images to maximally sized: (1280, 1024)"
   ]
  },
  {
   "cell_type": "code",
   "execution_count": 6,
   "metadata": {
    "collapsed": true
   },
   "outputs": [],
   "source": [
    "import os\n",
    "\n",
    "import numpy as np\n",
    "from PIL import Image"
   ]
  },
  {
   "cell_type": "code",
   "execution_count": 21,
   "metadata": {
    "collapsed": false
   },
   "outputs": [],
   "source": [
    "for img_filename in os.listdir(\"datasets/HD_Endoscopy/\"):\n",
    "    img = np.array(Image.open(\"datasets/HD_Endoscopy/\"+img_filename))\n",
    "    if img.shape[0] > 1024:\n",
    "        Image.fromarray(img[24:1024+24, 490:1280+490,:]).save(\"images/\"+img_filename)"
   ]
  },
  {
   "cell_type": "markdown",
   "metadata": {},
   "source": [
    "# 2. Evaluating Super-Resolution Images using SSIM, PSNR"
   ]
  },
  {
   "cell_type": "code",
   "execution_count": 26,
   "metadata": {
    "collapsed": true
   },
   "outputs": [],
   "source": [
    "import math\n",
    "import os\n",
    "\n",
    "import numpy as np\n",
    "import skimage\n",
    "from skimage import measure"
   ]
  },
  {
   "cell_type": "code",
   "execution_count": 27,
   "metadata": {
    "collapsed": true
   },
   "outputs": [],
   "source": [
    "def psnr(img1, img2):\n",
    "    mse = np.mean( (img1 - img2) ** 2 )\n",
    "    if mse == 0:\n",
    "        return 100\n",
    "    PIXEL_MAX = 255.0\n",
    "    return 20 * math.log10(PIXEL_MAX / math.sqrt(mse))"
   ]
  },
  {
   "cell_type": "markdown",
   "metadata": {},
   "source": [
    "## 2.1 Residual Generator"
   ]
  },
  {
   "cell_type": "code",
   "execution_count": 30,
   "metadata": {
    "collapsed": false
   },
   "outputs": [
    {
     "name": "stdout",
     "output_type": "stream",
     "text": [
      "0 1 2\n",
      "60 61 62\n",
      "120 121 122\n",
      "180 181 182\n",
      "240 241 242\n",
      "300 301 302\n",
      "360 361 362\n",
      "420 421 422\n",
      "480 481 482\n",
      "540 541 542\n",
      "600 601 602\n",
      "660 661 662\n",
      "720 721 722\n",
      "780 781 782\n",
      "840 841 842\n",
      "900 901 902\n",
      "960 961 962\n",
      "1020 1021 1022\n",
      "1080 1081 1082\n",
      "1140 1141 1142\n",
      "1200 1201 1202\n",
      "1260 1261 1262\n",
      "1320 1321 1322\n",
      "1380 1381 1382\n",
      "1440 1441 1442\n",
      "1500 1501 1502\n",
      "1560 1561 1562\n",
      "1620 1621 1622\n",
      "1680 1681 1682\n",
      "1740 1741 1742\n",
      "1800 1801 1802\n",
      "1860 1861 1862\n",
      "1920 1921 1922\n",
      "1980 1981 1982\n",
      "2040 2041 2042\n",
      "2100 2101 2102\n",
      "2160 2161 2162\n",
      "2220 2221 2222\n",
      "2280 2281 2282\n",
      "2340 2341 2342\n",
      "2400 2401 2402\n",
      "2460 2461 2462\n",
      "2520 2521 2522\n",
      "2580 2581 2582\n",
      "2640 2641 2642\n",
      "2700 2701 2702\n",
      "2760 2761 2762\n",
      "2820 2821 2822\n",
      "2880 2881 2882\n",
      "2940 2941 2942\n",
      "3000 3001 3002\n",
      "3060 3061 3062\n",
      "3120 3121 3122\n",
      "3180 3181 3182\n",
      "3240 3241 3242\n",
      "3300 3301 3302\n",
      "3360 3361 3362\n",
      "3420 3421 3422\n",
      "3480 3481 3482\n",
      "3540 3541 3542\n",
      "3600 3601 3602\n",
      "3660 3661 3662\n",
      "3720 3721 3722\n",
      "3780 3781 3782\n",
      "3840 3841 3842\n",
      "3900 3901 3902\n",
      "3960 3961 3962\n",
      "4020 4021 4022\n",
      "4080 4081 4082\n",
      "4140 4141 4142\n",
      "4200 4201 4202\n",
      "4260 4261 4262\n",
      "4320 4321 4322\n",
      "4380 4381 4382\n",
      "4440 4441 4442\n"
     ]
    }
   ],
   "source": [
    "SSIMs_pred_res, PSNRs_pred_res = [], []\n",
    "SSIMs_resize_res, PSNRs_resize_res = [], []\n",
    "\n",
    "path = \"results/4_Residual_HD_Endoscopy/\"\n",
    "test_dir = os.listdir(path)\n",
    "\n",
    "for i in np.arange(0, len(test_dir), 3):\n",
    "    if i % 60 == 0:\n",
    "        print i, i+1, i+2\n",
    "        \n",
    "    name1, name2, name3 = test_dir[i].split(\"_\")[0], test_dir[i+1].split(\"_\")[0], test_dir[i+2].split(\"_\")[0]\n",
    "    assert name1 == name2 == name3\n",
    "    \n",
    "    gt = np.array(Image.open(path+test_dir[i]))\n",
    "    resize = np.array(Image.open(path+test_dir[i+1]))\n",
    "    pred = np.array(Image.open(path+test_dir[i+2]))\n",
    "    \n",
    "    SSIMs_pred_res.append(measure.compare_ssim(gt, pred, multichannel=True))\n",
    "    SSIMs_resize_res.append(measure.compare_ssim(gt, resize, multichannel=True))\n",
    "    \n",
    "    PSNRs_pred_res.append(psnr(gt, pred))\n",
    "    PSNRs_resize_res.append(psnr(gt, resize))"
   ]
  },
  {
   "cell_type": "code",
   "execution_count": 31,
   "metadata": {
    "collapsed": false
   },
   "outputs": [
    {
     "name": "stdout",
     "output_type": "stream",
     "text": [
      "SSIM Pred: 0.8170355333798861\n",
      "SSIM Resize: 0.7133681691878317\n",
      "PSNR Pred: 35.281024355807034\n",
      "PSNR Resize: 32.69011223187247\n"
     ]
    }
   ],
   "source": [
    "print \"SSIM Pred:\", np.mean(SSIMs_pred_res)\n",
    "print \"SSIM Resize:\", np.mean(SSIMs_resize_res)\n",
    "\n",
    "print \"PSNR Pred:\", np.mean(PSNRs_pred_res)\n",
    "print \"PSNR Resize:\", np.mean(PSNRs_resize_res)"
   ]
  },
  {
   "cell_type": "markdown",
   "metadata": {},
   "source": [
    "## 2.2 DenseNet Generator"
   ]
  },
  {
   "cell_type": "code",
   "execution_count": null,
   "metadata": {
    "collapsed": true
   },
   "outputs": [],
   "source": [
    "SSIMs_pred_dense, PSNRs_pred_dense = [], []\n",
    "SSIMs_resize_dense, PSNRs_resize_dense = [], []\n",
    "\n",
    "path = \"4_Dense_HD_Endoscopy/\"\n",
    "test_dir = os.listdir(path)\n",
    "\n",
    "for i in np.arange(0, len(test_dir), 3)[:0]:\n",
    "    if i % 60 == 0:\n",
    "        print i, i+1, i+2\n",
    "        \n",
    "    gt = np.array(Image.open(path+test_dir[i]))\n",
    "    resize = np.array(Image.open(path+test_dir[i+1]))\n",
    "    pred = np.array(Image.open(path+test_dir[i+2]))\n",
    "    \n",
    "    SSIMs_pred_dense.append(measure.compare_ssim(gt, pred, multichannel=True))\n",
    "    SSIMs_resize_dense.append(measure.compare_ssim(gt, resize, multichannel=True))\n",
    "    \n",
    "    PSNRs_pred_dense.append(psnr(gt, pred))\n",
    "    PSNRs_resize_dense.append(psnr(gt, resize))"
   ]
  },
  {
   "cell_type": "code",
   "execution_count": null,
   "metadata": {
    "collapsed": true
   },
   "outputs": [],
   "source": [
    "print \"SSIM Pred:\", np.mean(SSIMs_pred_dense)\n",
    "print \"SSIM Resize:\", np.mean(SSIMs_resize_dense)\n",
    "\n",
    "print \"PSNR Pred:\", np.mean(PSNRs_pred_dense)\n",
    "print \"PSNR Resize:\", np.mean(PSNRs_resize_dense)"
   ]
  }
 ],
 "metadata": {
  "kernelspec": {
   "display_name": "Python 2",
   "language": "python",
   "name": "python2"
  },
  "language_info": {
   "codemirror_mode": {
    "name": "ipython",
    "version": 2
   },
   "file_extension": ".py",
   "mimetype": "text/x-python",
   "name": "python",
   "nbconvert_exporter": "python",
   "pygments_lexer": "ipython2",
   "version": "2.7.12"
  }
 },
 "nbformat": 4,
 "nbformat_minor": 0
}
