{
 "cells": [
  {
   "cell_type": "markdown",
   "metadata": {},
   "source": [
    "# 1. Reformatting Images to maximally sized: (1280, 1024)"
   ]
  },
  {
   "cell_type": "code",
   "execution_count": 6,
   "metadata": {
    "collapsed": true
   },
   "outputs": [],
   "source": [
    "import os\n",
    "\n",
    "import numpy as np\n",
    "from PIL import Image"
   ]
  },
  {
   "cell_type": "code",
   "execution_count": 21,
   "metadata": {
    "collapsed": false
   },
   "outputs": [],
   "source": [
    "for img_filename in os.listdir(\"datasets/HD_Endoscopy/\"):\n",
    "    img = np.array(Image.open(\"datasets/HD_Endoscopy/\"+img_filename))\n",
    "    if img.shape[0] > 1024:\n",
    "        Image.fromarray(img[24:1024+24, 490:1280+490,:]).save(\"images/\"+img_filename)"
   ]
  },
  {
   "cell_type": "markdown",
   "metadata": {},
   "source": [
    "# 2. Evaluating Super-Resolution Images using SSIM, PSNR"
   ]
  },
  {
   "cell_type": "code",
   "execution_count": 13,
   "metadata": {
    "collapsed": true
   },
   "outputs": [],
   "source": [
    "import os\n",
    "\n",
    "import numpy as np\n",
    "import skimage\n",
    "from skimage import measure"
   ]
  },
  {
   "cell_type": "code",
   "execution_count": 14,
   "metadata": {
    "collapsed": true
   },
   "outputs": [],
   "source": [
    "def psnr(img1, img2):\n",
    "    mse = numpy.mean( (img1 - img2) ** 2 )\n",
    "    if mse == 0:\n",
    "        return 100\n",
    "    PIXEL_MAX = 255.0\n",
    "    return 20 * math.log10(PIXEL_MAX / math.sqrt(mse))"
   ]
  },
  {
   "cell_type": "markdown",
   "metadata": {},
   "source": [
    "## 2.1 Residual Generator"
   ]
  },
  {
   "cell_type": "code",
   "execution_count": 10,
   "metadata": {
    "collapsed": false
   },
   "outputs": [],
   "source": [
    "SSIMs_pred_res, PSNRs_pred_res = [], []\n",
    "SSIMs_resize_res, PSNRs_resize_res = [], []\n",
    "\n",
    "path = \"4_Residual_HD_Endoscopy/\"\n",
    "test_dir = os.listdir(path)\n",
    "\n",
    "for i in np.arange(0, len(test_dir), 3)[:0]:\n",
    "    if i % 60 == 0:\n",
    "        print i, i+1, i+2\n",
    "        \n",
    "    gt = np.array(Image.open(path+test_dir[i]))\n",
    "    resize = np.array(Image.open(path+test_dir[i+1]))\n",
    "    pred = np.array(Image.open(path+test_dir[i+2]))\n",
    "    \n",
    "    SSIMs_pred_res.append(measure.compare_ssim(gt, pred, multichannel=True))\n",
    "    SSIMs_resize_res.append(measure.compare_ssim(gt, resize, multichannel=True))\n",
    "    \n",
    "    PSNRs_pred_res.append(psnr(gt, pred))\n",
    "    PSNRs_resize_res.append(psnr(gt, resize))"
   ]
  },
  {
   "cell_type": "code",
   "execution_count": 58,
   "metadata": {
    "collapsed": false
   },
   "outputs": [
    {
     "name": "stdout",
     "output_type": "stream",
     "text": [
      "SSIM Pred: 0.8109223351711556\n",
      "SSIM Resize: 0.7104658896844962\n",
      "PSNR Pred: 35.169820043685526\n",
      "PSNR Resize: 32.63852155570924\n"
     ]
    }
   ],
   "source": [
    "print \"SSIM Pred:\", np.mean(SSIMs_pred_res)\n",
    "print \"SSIM Resize:\", np.mean(SSIMs_resize_res)\n",
    "\n",
    "print \"PSNR Pred:\", np.mean(PSNRs_pred_res)\n",
    "print \"PSNR Resize:\", np.mean(PSNRs_resize_res)"
   ]
  },
  {
   "cell_type": "markdown",
   "metadata": {},
   "source": [
    "## 2.2 DenseNet Generator"
   ]
  },
  {
   "cell_type": "code",
   "execution_count": null,
   "metadata": {
    "collapsed": true
   },
   "outputs": [],
   "source": [
    "SSIMs_pred_dense, PSNRs_pred_dense = [], []\n",
    "SSIMs_resize_dense, PSNRs_resize_dense = [], []\n",
    "\n",
    "path = \"4_Dense_HD_Endoscopy/\"\n",
    "test_dir = os.listdir(path)\n",
    "\n",
    "for i in np.arange(0, len(test_dir), 3)[:0]:\n",
    "    if i % 60 == 0:\n",
    "        print i, i+1, i+2\n",
    "        \n",
    "    gt = np.array(Image.open(path+test_dir[i]))\n",
    "    resize = np.array(Image.open(path+test_dir[i+1]))\n",
    "    pred = np.array(Image.open(path+test_dir[i+2]))\n",
    "    \n",
    "    SSIMs_pred_dense.append(measure.compare_ssim(gt, pred, multichannel=True))\n",
    "    SSIMs_resize_dense.append(measure.compare_ssim(gt, resize, multichannel=True))\n",
    "    \n",
    "    PSNRs_pred_dense.append(psnr(gt, pred))\n",
    "    PSNRs_resize_dense.append(psnr(gt, resize))"
   ]
  },
  {
   "cell_type": "code",
   "execution_count": null,
   "metadata": {
    "collapsed": true
   },
   "outputs": [],
   "source": [
    "print \"SSIM Pred:\", np.mean(SSIMs_pred_dense)\n",
    "print \"SSIM Resize:\", np.mean(SSIMs_resize_dense)\n",
    "\n",
    "print \"PSNR Pred:\", np.mean(PSNRs_pred_dense)\n",
    "print \"PSNR Resize:\", np.mean(PSNRs_resize_dense)"
   ]
  }
 ],
 "metadata": {
  "kernelspec": {
   "display_name": "Python 2",
   "language": "python",
   "name": "python2"
  },
  "language_info": {
   "codemirror_mode": {
    "name": "ipython",
    "version": 2
   },
   "file_extension": ".py",
   "mimetype": "text/x-python",
   "name": "python",
   "nbconvert_exporter": "python",
   "pygments_lexer": "ipython2",
   "version": "2.7.12"
  }
 },
 "nbformat": 4,
 "nbformat_minor": 0
}
