{
 "cells": [
  {
   "cell_type": "code",
   "execution_count": 1,
   "metadata": {},
   "outputs": [],
   "source": [
    "import math, os, re, sys\n",
    "\n",
    "import numpy as np\n",
    "from PIL import Image\n",
    "import skimage\n",
    "from skimage import measure\n",
    "\n",
    "def natural_sort(l): \n",
    "    convert = lambda text: int(text) if text.isdigit() else text.lower() \n",
    "    alphanum_key = lambda key: [ convert(c) for c in re.split('([0-9]+)', key) ] \n",
    "    return sorted(l, key = alphanum_key)\n",
    "\n",
    "def psnr(img1, img2):\n",
    "    mse = np.mean( (img1 - img2) ** 2 )\n",
    "    if mse == 0:\n",
    "        return 100\n",
    "    PIXEL_MAX = 255.0\n",
    "    return 20 * math.log10(PIXEL_MAX / math.sqrt(mse))\n",
    "\n",
    "def evaluate(path):\n",
    "    PSNRs_resize, PSNRs_pred = [], []\n",
    "    SSIMs_resize, SSIMs_pred = [], []\n",
    "\n",
    "    test_dir = os.listdir(path)\n",
    "    test_dir.sort()\n",
    "\n",
    "    for i in np.arange(0, len(test_dir), 3):\n",
    "        if i % 60 == 0:\n",
    "            print i, i+1, i+2\n",
    "\n",
    "        gt = np.array(Image.open(path+test_dir[i]))\n",
    "        pred = np.array(Image.open(path+test_dir[i+1]))\n",
    "        resize = np.array(Image.open(path+test_dir[i+2]))\n",
    "\n",
    "        SSIMs_pred.append(measure.compare_ssim(gt, pred, multichannel=True))\n",
    "        SSIMs_resize.append(measure.compare_ssim(gt, resize, multichannel=True))\n",
    "\n",
    "        PSNRs_pred.append(psnr(gt, pred))\n",
    "        PSNRs_resize.append(psnr(gt, resize))\n",
    "\n",
    "    print \"SSIM Pred:\", np.mean(SSIMs_pred)\n",
    "    print \"SSIM Resize:\", np.mean(SSIMs_resize)\n",
    "\n",
    "    print \"PSNR Pred:\", np.mean(PSNRs_pred)\n",
    "    print \"PSNR Resize:\", np.mean(PSNRs_resize)\n",
    "    \n",
    "def main()\n",
    "    path = sys.argv[1]\n",
    "    evaluate(path)"
   ]
  },
  {
   "cell_type": "code",
   "execution_count": null,
   "metadata": {},
   "outputs": [],
   "source": []
  },
  {
   "cell_type": "code",
   "execution_count": null,
   "metadata": {},
   "outputs": [],
   "source": []
  }
 ],
 "metadata": {
  "kernelspec": {
   "display_name": "Python 2",
   "language": "python",
   "name": "python2"
  },
  "language_info": {
   "codemirror_mode": {
    "name": "ipython",
    "version": 2
   },
   "file_extension": ".py",
   "mimetype": "text/x-python",
   "name": "python",
   "nbconvert_exporter": "python",
   "pygments_lexer": "ipython2",
   "version": "2.7.15"
  }
 },
 "nbformat": 4,
 "nbformat_minor": 2
}
